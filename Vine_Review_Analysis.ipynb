{
  "nbformat": 4,
  "nbformat_minor": 0,
  "metadata": {
    "colab": {
      "name": "Vine_Review_Analysis.ipynb",
      "provenance": [],
      "collapsed_sections": []
    },
    "kernelspec": {
      "name": "python3",
      "display_name": "Python 3"
    },
    "language_info": {
      "name": "python"
    }
  },
  "cells": [
    {
      "cell_type": "code",
      "metadata": {
        "colab": {
          "base_uri": "https://localhost:8080/"
        },
        "id": "iIoWJoBp1ttK",
        "outputId": "abe8816c-74bb-4f97-8868-4ed6518a2f57"
      },
      "source": [
        "import os\n",
        "# Find the latest version of spark 2.0  from http://www-us.apache.org/dist/spark/ and enter as the spark version\n",
        "# For example:\n",
        "# spark_version = 'spark-3.0.0'\n",
        "spark_version = 'spark-3.1.2'\n",
        "os.environ['SPARK_VERSION']=spark_version\n",
        "\n",
        "# Install Spark and Java\n",
        "!apt-get update\n",
        "!apt-get install openjdk-11-jdk-headless -qq > /dev/null\n",
        "!wget -q http://www-us.apache.org/dist/spark/$SPARK_VERSION/$SPARK_VERSION-bin-hadoop2.7.tgz\n",
        "!tar xf $SPARK_VERSION-bin-hadoop2.7.tgz\n",
        "!pip install -q findspark\n",
        "\n",
        "# Set Environment Variables\n",
        "import os\n",
        "os.environ[\"JAVA_HOME\"] = \"/usr/lib/jvm/java-11-openjdk-amd64\"\n",
        "os.environ[\"SPARK_HOME\"] = f\"/content/{spark_version}-bin-hadoop2.7\"\n",
        "\n",
        "# Start a SparkSession\n",
        "import findspark\n",
        "findspark.init()"
      ],
      "execution_count": 1,
      "outputs": [
        {
          "output_type": "stream",
          "text": [
            "\r0% [Working]\r            \rGet:1 http://security.ubuntu.com/ubuntu bionic-security InRelease [88.7 kB]\n",
            "\r0% [Connecting to archive.ubuntu.com (91.189.88.152)] [1 InRelease 14.2 kB/88.7\r                                                                               \rHit:2 https://cloud.r-project.org/bin/linux/ubuntu bionic-cran40/ InRelease\n",
            "\r0% [Connecting to archive.ubuntu.com (91.189.88.152)] [1 InRelease 43.1 kB/88.7\r0% [2 InRelease gpgv 3,626 B] [Connecting to archive.ubuntu.com (91.189.88.152)\r0% [2 InRelease gpgv 3,626 B] [Connecting to archive.ubuntu.com (91.189.88.152)\r                                                                               \rIgn:3 https://developer.download.nvidia.com/compute/cuda/repos/ubuntu1804/x86_64  InRelease\n",
            "\r                                                                               \r0% [2 InRelease gpgv 3,626 B] [Waiting for headers] [Waiting for headers]\r                                                                         \rHit:4 http://ppa.launchpad.net/c2d4u.team/c2d4u4.0+/ubuntu bionic InRelease\n",
            "Hit:5 http://archive.ubuntu.com/ubuntu bionic InRelease\n",
            "Get:6 http://archive.ubuntu.com/ubuntu bionic-updates InRelease [88.7 kB]\n",
            "Hit:7 http://ppa.launchpad.net/cran/libgit2/ubuntu bionic InRelease\n",
            "Ign:8 https://developer.download.nvidia.com/compute/machine-learning/repos/ubuntu1804/x86_64  InRelease\n",
            "Get:9 https://developer.download.nvidia.com/compute/cuda/repos/ubuntu1804/x86_64  Release [697 B]\n",
            "Hit:10 https://developer.download.nvidia.com/compute/machine-learning/repos/ubuntu1804/x86_64  Release\n",
            "Get:11 https://developer.download.nvidia.com/compute/cuda/repos/ubuntu1804/x86_64  Release.gpg [836 B]\n",
            "Get:12 http://ppa.launchpad.net/deadsnakes/ppa/ubuntu bionic InRelease [15.9 kB]\n",
            "Get:13 http://archive.ubuntu.com/ubuntu bionic-backports InRelease [74.6 kB]\n",
            "Get:14 http://ppa.launchpad.net/graphics-drivers/ppa/ubuntu bionic InRelease [21.3 kB]\n",
            "Get:15 http://security.ubuntu.com/ubuntu bionic-security/restricted amd64 Packages [473 kB]\n",
            "Get:16 http://security.ubuntu.com/ubuntu bionic-security/universe amd64 Packages [1,418 kB]\n",
            "Get:17 http://security.ubuntu.com/ubuntu bionic-security/main amd64 Packages [2,219 kB]\n",
            "Ign:19 https://developer.download.nvidia.com/compute/cuda/repos/ubuntu1804/x86_64  Packages\n",
            "Get:19 https://developer.download.nvidia.com/compute/cuda/repos/ubuntu1804/x86_64  Packages [599 kB]\n",
            "Get:20 http://archive.ubuntu.com/ubuntu bionic-updates/main amd64 Packages [2,652 kB]\n",
            "Get:21 http://ppa.launchpad.net/deadsnakes/ppa/ubuntu bionic/main amd64 Packages [40.9 kB]\n",
            "Get:22 http://archive.ubuntu.com/ubuntu bionic-updates/restricted amd64 Packages [505 kB]\n",
            "Get:23 http://archive.ubuntu.com/ubuntu bionic-updates/universe amd64 Packages [2,188 kB]\n",
            "Get:24 http://ppa.launchpad.net/graphics-drivers/ppa/ubuntu bionic/main amd64 Packages [41.5 kB]\n",
            "Fetched 10.4 MB in 4s (2,868 kB/s)\n",
            "Reading package lists... Done\n"
          ],
          "name": "stdout"
        }
      ]
    },
    {
      "cell_type": "code",
      "metadata": {
        "colab": {
          "base_uri": "https://localhost:8080/"
        },
        "id": "ChJ1ROVb2Jm-",
        "outputId": "ffb6c32f-232a-4dc7-fa51-ba03074a4862"
      },
      "source": [
        "# Download the Postgres driver that will allow Spark to interact with Postgres.\n",
        "!wget https://jdbc.postgresql.org/download/postgresql-42.2.16.jar"
      ],
      "execution_count": 2,
      "outputs": [
        {
          "output_type": "stream",
          "text": [
            "--2021-06-23 21:48:34--  https://jdbc.postgresql.org/download/postgresql-42.2.16.jar\n",
            "Resolving jdbc.postgresql.org (jdbc.postgresql.org)... 72.32.157.228, 2001:4800:3e1:1::228\n",
            "Connecting to jdbc.postgresql.org (jdbc.postgresql.org)|72.32.157.228|:443... connected.\n",
            "HTTP request sent, awaiting response... 200 OK\n",
            "Length: 1002883 (979K) [application/java-archive]\n",
            "Saving to: ‘postgresql-42.2.16.jar’\n",
            "\n",
            "postgresql-42.2.16. 100%[===================>] 979.38K  5.72MB/s    in 0.2s    \n",
            "\n",
            "2021-06-23 21:48:34 (5.72 MB/s) - ‘postgresql-42.2.16.jar’ saved [1002883/1002883]\n",
            "\n"
          ],
          "name": "stdout"
        }
      ]
    },
    {
      "cell_type": "code",
      "metadata": {
        "id": "JaxN8LnD2L9x"
      },
      "source": [
        "from pyspark.sql import SparkSession\n",
        "spark = SparkSession.builder.appName(\"BigData-Challenge\").config(\"spark.driver.extraClassPath\",\"/content/postgresql-42.2.16.jar\").getOrCreate()"
      ],
      "execution_count": 3,
      "outputs": []
    },
    {
      "cell_type": "code",
      "metadata": {
        "colab": {
          "base_uri": "https://localhost:8080/"
        },
        "id": "wXXLoIHz2Ml4",
        "outputId": "d7e34c91-9e88-43a5-b9c9-be0c2fde0196"
      },
      "source": [
        "from pyspark import SparkFiles\n",
        "url = \"https://s3.amazonaws.com/amazon-reviews-pds/tsv/amazon_reviews_us_Software_v1_00.tsv.gz\"\n",
        "spark.sparkContext.addFile(url)\n",
        "df = spark.read.option(\"encoding\", \"UTF-8\").csv(SparkFiles.get(\"\"), sep=\"\\t\", header=True, inferSchema=True)\n",
        "df.show()"
      ],
      "execution_count": 4,
      "outputs": [
        {
          "output_type": "stream",
          "text": [
            "+-----------+-----------+--------------+----------+--------------+--------------------+----------------+-----------+-------------+-----------+----+-----------------+--------------------+--------------------+-----------+\n",
            "|marketplace|customer_id|     review_id|product_id|product_parent|       product_title|product_category|star_rating|helpful_votes|total_votes|vine|verified_purchase|     review_headline|         review_body|review_date|\n",
            "+-----------+-----------+--------------+----------+--------------+--------------------+----------------+-----------+-------------+-----------+----+-----------------+--------------------+--------------------+-----------+\n",
            "|         US|   42605767|R3EFW2STIYIY0I|B00MUTIDKI|     248732228|McAfee 2015 Inter...|        Software|          1|            2|          2|   N|                Y|I was very disapp...|I was very disapp...| 2015-08-31|\n",
            "|         US|   51771800|R12NR0R5A9F7FT|B00EPACNUG|     531462352|Hallmark Card Stu...|        Software|          5|            0|          0|   N|                Y|          Five Stars|I had a little st...| 2015-08-31|\n",
            "|         US|   16053526|R1LSH74R9XAP59|B00164AZA4|     473982505| Search and Rescue 4|        Software|          2|            0|          1|   N|                Y|    Have windows 10?|Tried to download...| 2015-08-31|\n",
            "|         US|   15319481|R1QXUNTF76K7L6|B00E6LIEFM|     189774198|      Quickbooks Pro|        Software|          2|            0|          0|   N|                Y|Disc was corrupt,...|Disc was corrupt,...| 2015-08-31|\n",
            "|         US|    1441820|R2F7DR75PS8NKT|B00VWEBG06|     852470365|Windows 7 Profess...|        Software|          5|            0|          0|   N|                Y|          Five Stars|Just what I neede...| 2015-08-31|\n",
            "|         US|   37107850|R2C1DJSCC8UFS6|B00EP7AP7C|     279360628|Family Tree Maker...|        Software|          3|            0|          0|   N|                Y|         Three Stars|Didn't like havin...| 2015-08-31|\n",
            "|         US|     302120|R1AXGS1W4YFXMX|B00OW2PET4|     729971168|World of Farming:...|        Software|          1|            0|          2|   N|                Y|            One Star|it does not work ...| 2015-08-31|\n",
            "|         US|   20193077|R1XU1B93402SYJ|B00N4OLCRO|     776572654|Photoshop Element...|        Software|          1|            1|          1|   N|                Y|Can't load to my ...|I have tried for ...| 2015-08-31|\n",
            "|         US|   13106017|R2U432NB3OPVR0|B005CELN8W|     222071424|Phantom EFX WMS S...|        Software|          5|            0|          0|   N|                Y|          Five Stars|       love the game| 2015-08-31|\n",
            "|         US|   32587108|R3R6FIMIOQ5SP9|B005CELL1G|     168801430|PaperPort Profess...|        Software|          5|            0|          0|   N|                Y|Meets our small b...|Great software. A...| 2015-08-31|\n",
            "|         US|   32020017|R12TX6V09C9QNQ|B00H09BOXQ|     455502995|Windows 7 Profess...|        Software|          5|            0|          0|   N|                Y|          Five Stars|             Awesome| 2015-08-31|\n",
            "|         US|   13376158|R33UCII6YKUMKV|B00MCLGAAO|     652069521| QuickBooks Pro 2015|        Software|          3|            2|          2|   N|                Y|Nothing New in Th...|To start this rev...| 2015-08-31|\n",
            "|         US|   47098110| RZKDAB9TGO053|B00P6U8C5Y|     871602905|Block Financial H...|        Software|          1|            0|          0|   N|                Y|Missing key infor...|Some key provisio...| 2015-08-31|\n",
            "|         US|   24083274|R2EMN2EEDN73ZA|B00MA5TPN6|     299038085|Parallels Desktop...|        Software|          4|            0|          0|   N|                Y|Probably the best...|Probably the best...| 2015-08-31|\n",
            "|         US|   41137196| RU9LHN1NJDVOI|B000EQ868I|     534229510|Cosmi Print Perfe...|        Software|          5|            0|          0|   N|                Y|          Five Stars|I was pleased wit...| 2015-08-31|\n",
            "|         US|   18003829|R19910SO17BQUE|B00MYXTCMI|      42668324|TurboTax Business...|        Software|          5|            0|          0|   N|                Y|... what it is su...|This program does...| 2015-08-31|\n",
            "|         US|   14460749|R32N10BW8MH847|B008PIQXP0|     116724371|I.R.I.S. Readiris...|        Software|          4|            2|          4|   N|                Y|          Four Stars|Again it should h...| 2015-08-31|\n",
            "|         US|   12641855| R2DNM85DH7FGK|B00KAFOXXU|     471261945|Finale PrintMusic...|        Software|          5|            0|          2|   N|                Y|          Five Stars|               great| 2015-08-31|\n",
            "|         US|   13775565|R2G9RFFW051RWY|B00OKSOLE4|     694520847|Microsoft Office ...|        Software|          5|            0|          0|   N|                Y|          Five Stars|        Easy to use.| 2015-08-31|\n",
            "|         US|   31044774|R26CC1STPSUHBS|B01019T6O0|     510976915|Microsoft Windows...|        Software|          1|           27|         39|   N|                N|Do NOT take the \"...|Do NOT take the &...| 2015-08-31|\n",
            "+-----------+-----------+--------------+----------+--------------+--------------------+----------------+-----------+-------------+-----------+----+-----------------+--------------------+--------------------+-----------+\n",
            "only showing top 20 rows\n",
            "\n"
          ],
          "name": "stdout"
        }
      ]
    },
    {
      "cell_type": "code",
      "metadata": {
        "colab": {
          "base_uri": "https://localhost:8080/"
        },
        "id": "rOtWhCAW2Tkf",
        "outputId": "521945c1-41c5-4aa8-9b3a-50301d8d1f36"
      },
      "source": [
        "# Create the vine_table DataFrame\n",
        "vine_df = df.select(['review_id', 'star_rating', 'helpful_votes', 'total_votes', 'vine', 'verified_purchase'])\n",
        "vine_df.show()"
      ],
      "execution_count": 6,
      "outputs": [
        {
          "output_type": "stream",
          "text": [
            "+--------------+-----------+-------------+-----------+----+-----------------+\n",
            "|     review_id|star_rating|helpful_votes|total_votes|vine|verified_purchase|\n",
            "+--------------+-----------+-------------+-----------+----+-----------------+\n",
            "|R3EFW2STIYIY0I|          1|            2|          2|   N|                Y|\n",
            "|R12NR0R5A9F7FT|          5|            0|          0|   N|                Y|\n",
            "|R1LSH74R9XAP59|          2|            0|          1|   N|                Y|\n",
            "|R1QXUNTF76K7L6|          2|            0|          0|   N|                Y|\n",
            "|R2F7DR75PS8NKT|          5|            0|          0|   N|                Y|\n",
            "|R2C1DJSCC8UFS6|          3|            0|          0|   N|                Y|\n",
            "|R1AXGS1W4YFXMX|          1|            0|          2|   N|                Y|\n",
            "|R1XU1B93402SYJ|          1|            1|          1|   N|                Y|\n",
            "|R2U432NB3OPVR0|          5|            0|          0|   N|                Y|\n",
            "|R3R6FIMIOQ5SP9|          5|            0|          0|   N|                Y|\n",
            "|R12TX6V09C9QNQ|          5|            0|          0|   N|                Y|\n",
            "|R33UCII6YKUMKV|          3|            2|          2|   N|                Y|\n",
            "| RZKDAB9TGO053|          1|            0|          0|   N|                Y|\n",
            "|R2EMN2EEDN73ZA|          4|            0|          0|   N|                Y|\n",
            "| RU9LHN1NJDVOI|          5|            0|          0|   N|                Y|\n",
            "|R19910SO17BQUE|          5|            0|          0|   N|                Y|\n",
            "|R32N10BW8MH847|          4|            2|          4|   N|                Y|\n",
            "| R2DNM85DH7FGK|          5|            0|          2|   N|                Y|\n",
            "|R2G9RFFW051RWY|          5|            0|          0|   N|                Y|\n",
            "|R26CC1STPSUHBS|          1|           27|         39|   N|                N|\n",
            "+--------------+-----------+-------------+-----------+----+-----------------+\n",
            "only showing top 20 rows\n",
            "\n"
          ],
          "name": "stdout"
        }
      ]
    },
    {
      "cell_type": "code",
      "metadata": {
        "colab": {
          "base_uri": "https://localhost:8080/"
        },
        "id": "GbcW7n-32fxo",
        "outputId": "78a78b05-c81d-4e3f-a455-7cf9fbb730b7"
      },
      "source": [
        "# Count total vote\n",
        "vine_df.count()"
      ],
      "execution_count": 7,
      "outputs": [
        {
          "output_type": "execute_result",
          "data": {
            "text/plain": [
              "341931"
            ]
          },
          "metadata": {
            "tags": []
          },
          "execution_count": 7
        }
      ]
    },
    {
      "cell_type": "code",
      "metadata": {
        "colab": {
          "base_uri": "https://localhost:8080/"
        },
        "id": "sMvU4Unn3CfK",
        "outputId": "0f0952bd-d78a-4c26-db2f-af795ba27881"
      },
      "source": [
        "#  Step 1: Filter DataFrame to retrieve all rows where total_votes count is greater than or equal to 20\n",
        "total_votes_df = vine_df.filter(\"total_votes>=20\").orderBy(vine_df[\"total_votes\"].asc())\n",
        "total_votes_df.show()"
      ],
      "execution_count": 33,
      "outputs": [
        {
          "output_type": "stream",
          "text": [
            "+--------------+-----------+-------------+-----------+----+-----------------+\n",
            "|     review_id|star_rating|helpful_votes|total_votes|vine|verified_purchase|\n",
            "+--------------+-----------+-------------+-----------+----+-----------------+\n",
            "|R3C3UU3AWSPCPQ|          1|           13|         20|   N|                N|\n",
            "|R1VZNSTRV9IE38|          1|           20|         20|   N|                Y|\n",
            "|R2M9V2XMOA5MEJ|          1|           19|         20|   N|                Y|\n",
            "|R1QMF01BDRT2LJ|          1|           10|         20|   N|                N|\n",
            "|R2G908XLS4JISS|          5|           20|         20|   N|                N|\n",
            "|R3E9P8SZEMFTBK|          2|           12|         20|   N|                N|\n",
            "|R3K2ZVAQ2O3LWT|          1|            7|         20|   N|                Y|\n",
            "|R1CXK4SGLJB4FE|          1|           15|         20|   N|                Y|\n",
            "|R3GJGFTSDNVCHH|          5|           16|         20|   N|                N|\n",
            "|R3JANDU5B4OSF0|          2|            6|         20|   N|                N|\n",
            "|R17A3UL7L22B8B|          3|           18|         20|   N|                N|\n",
            "|R1FWWYZ2U0ZPJV|          1|           16|         20|   N|                Y|\n",
            "|R3R3MI19D1KJDF|          4|           20|         20|   N|                Y|\n",
            "|R3QDRWZTGQPEDB|          1|           18|         20|   N|                Y|\n",
            "|R30TCX1Q46IFBX|          2|           20|         20|   N|                N|\n",
            "| R6A9T3U65BCUE|          1|           11|         20|   N|                N|\n",
            "|R1UL46EGKI6GMW|          3|           20|         20|   N|                Y|\n",
            "|R1DJ978EYO294W|          5|            9|         20|   N|                N|\n",
            "|R2X9BMF1XJBON8|          1|           20|         20|   N|                N|\n",
            "|R1PXUULGJ2ARI8|          3|           20|         20|   N|                Y|\n",
            "+--------------+-----------+-------------+-----------+----+-----------------+\n",
            "only showing top 20 rows\n",
            "\n"
          ],
          "name": "stdout"
        }
      ]
    },
    {
      "cell_type": "code",
      "metadata": {
        "colab": {
          "base_uri": "https://localhost:8080/"
        },
        "id": "H90_KxrG3LWR",
        "outputId": "897742d6-7651-4ece-e0dd-64666834f886"
      },
      "source": [
        "# Total_votes count is greater than or equal to 20\n",
        "total_votes_df.count()"
      ],
      "execution_count": 11,
      "outputs": [
        {
          "output_type": "execute_result",
          "data": {
            "text/plain": [
              "20216"
            ]
          },
          "metadata": {
            "tags": []
          },
          "execution_count": 11
        }
      ]
    },
    {
      "cell_type": "code",
      "metadata": {
        "colab": {
          "base_uri": "https://localhost:8080/"
        },
        "id": "tFuQf36O3Rs5",
        "outputId": "b4df8dc7-9f91-4c42-a873-ab3f3021cfbd"
      },
      "source": [
        "# Step 2:  Filter filtered_df to retrieve rows where helpful_votes/total_votes is greater than or equal to 50%\n",
        "helpful_votes_df = total_votes_df.filter((total_votes_df['helpful_votes']) / (total_votes_df['total_votes']) >= 0.5)\n",
        "helpful_votes_df.show()\n",
        "helpful_votes_df.count()"
      ],
      "execution_count": 12,
      "outputs": [
        {
          "output_type": "stream",
          "text": [
            "+--------------+-----------+-------------+-----------+----+-----------------+\n",
            "|     review_id|star_rating|helpful_votes|total_votes|vine|verified_purchase|\n",
            "+--------------+-----------+-------------+-----------+----+-----------------+\n",
            "|R1PXUULGJ2ARI8|          3|           20|         20|   N|                Y|\n",
            "|R2G908XLS4JISS|          5|           20|         20|   N|                N|\n",
            "|R3QDRWZTGQPEDB|          1|           18|         20|   N|                Y|\n",
            "|R1QMF01BDRT2LJ|          1|           10|         20|   N|                N|\n",
            "|R1CXK4SGLJB4FE|          1|           15|         20|   N|                Y|\n",
            "+--------------+-----------+-------------+-----------+----+-----------------+\n",
            "only showing top 5 rows\n",
            "\n"
          ],
          "name": "stdout"
        },
        {
          "output_type": "execute_result",
          "data": {
            "text/plain": [
              "17762"
            ]
          },
          "metadata": {
            "tags": []
          },
          "execution_count": 12
        }
      ]
    },
    {
      "cell_type": "code",
      "metadata": {
        "colab": {
          "base_uri": "https://localhost:8080/"
        },
        "id": "yLEgYMKZ3qDV",
        "outputId": "0f3c0ed2-986a-495e-8a51-29fb1f33babd"
      },
      "source": [
        "# Step 3: Create table that only has the rows where a review was written as part of vine program(paid)\n",
        "vine_program_paid_df = helpful_votes_df.filter(helpful_votes_df['vine'] == 'Y')\n",
        "vine_program_paid_df.show()"
      ],
      "execution_count": 26,
      "outputs": [
        {
          "output_type": "stream",
          "text": [
            "+--------------+-----------+-------------+-----------+----+-----------------+\n",
            "|     review_id|star_rating|helpful_votes|total_votes|vine|verified_purchase|\n",
            "+--------------+-----------+-------------+-----------+----+-----------------+\n",
            "|R1BGEGOX6SCYU2|          5|           19|         20|   Y|                N|\n",
            "| RWQZCIUS2Z8IS|          5|           19|         20|   Y|                N|\n",
            "|R3BCPKHRR5942R|          3|           19|         20|   Y|                N|\n",
            "|R2ODPCF6F4LT3O|          3|           17|         20|   Y|                N|\n",
            "|R2SLQR7YTQELLA|          5|           19|         20|   Y|                N|\n",
            "| RPQBEIHH92962|          4|           17|         20|   Y|                N|\n",
            "|R3SF7YZ9N8DVN2|          5|           19|         20|   Y|                N|\n",
            "|R3125W32EF7TY8|          5|           20|         20|   Y|                N|\n",
            "| RSWJ1R6T04O02|          5|           19|         20|   Y|                N|\n",
            "|R3TCHJ0QACS445|          4|           19|         20|   Y|                N|\n",
            "|R2ZAYIN0VSLSRJ|          3|           20|         20|   Y|                N|\n",
            "|R3TYODQJ379ONQ|          3|           20|         20|   Y|                N|\n",
            "| RW9U7VT1GELNS|          5|           16|         20|   Y|                N|\n",
            "| RZHYW4NFNGNWB|          2|           17|         20|   Y|                N|\n",
            "|R254QE8B67FICR|          5|           18|         20|   Y|                N|\n",
            "|R2GSZW8LSS382H|          5|           17|         20|   Y|                N|\n",
            "|R3IZBBDG779H1G|          3|           17|         20|   Y|                N|\n",
            "|R1RRDT1S30HCA3|          4|           21|         21|   Y|                N|\n",
            "|R1E0EF8KGW39LV|          5|           19|         21|   Y|                N|\n",
            "|  RE0ZU411BQER|          2|           17|         21|   Y|                N|\n",
            "+--------------+-----------+-------------+-----------+----+-----------------+\n",
            "only showing top 20 rows\n",
            "\n"
          ],
          "name": "stdout"
        }
      ]
    },
    {
      "cell_type": "code",
      "metadata": {
        "colab": {
          "base_uri": "https://localhost:8080/"
        },
        "id": "JAVExMTT4Kj8",
        "outputId": "b263d4a6-bbd6-41a2-bb1e-fc82b7540c79"
      },
      "source": [
        "# Step 4: Create table that only has the rows where a review was not a part of vine program(unpaid)\n",
        "vine_program_unpaid_df = helpful_votes_df.filter(helpful_votes_df['vine'] == 'N')\n",
        "vine_program_unpaid_df.show()"
      ],
      "execution_count": 27,
      "outputs": [
        {
          "output_type": "stream",
          "text": [
            "+--------------+-----------+-------------+-----------+----+-----------------+\n",
            "|     review_id|star_rating|helpful_votes|total_votes|vine|verified_purchase|\n",
            "+--------------+-----------+-------------+-----------+----+-----------------+\n",
            "|R2G908XLS4JISS|          5|           20|         20|   N|                N|\n",
            "| RF553TNOT43HO|          1|           19|         20|   N|                N|\n",
            "|R3GJGFTSDNVCHH|          5|           16|         20|   N|                N|\n",
            "|R17A3UL7L22B8B|          3|           18|         20|   N|                N|\n",
            "| R1Q9Q3H7K7V90|          4|           19|         20|   N|                Y|\n",
            "|R3E9P8SZEMFTBK|          2|           12|         20|   N|                N|\n",
            "|R3R3MI19D1KJDF|          4|           20|         20|   N|                Y|\n",
            "|R1QMF01BDRT2LJ|          1|           10|         20|   N|                N|\n",
            "|R30TCX1Q46IFBX|          2|           20|         20|   N|                N|\n",
            "|R3QDRWZTGQPEDB|          1|           18|         20|   N|                Y|\n",
            "|R1UL46EGKI6GMW|          3|           20|         20|   N|                Y|\n",
            "| RMXKAXWG5CDRN|          1|           16|         20|   N|                N|\n",
            "|R2X9BMF1XJBON8|          1|           20|         20|   N|                N|\n",
            "| R8I1GUKVDGD02|          2|           18|         20|   N|                Y|\n",
            "|R3M8VN1574RJDR|          1|           15|         20|   N|                Y|\n",
            "|R1PXUULGJ2ARI8|          3|           20|         20|   N|                Y|\n",
            "|R1VZNSTRV9IE38|          1|           20|         20|   N|                Y|\n",
            "|R1CXK4SGLJB4FE|          1|           15|         20|   N|                Y|\n",
            "|R3C3UU3AWSPCPQ|          1|           13|         20|   N|                N|\n",
            "|R1FWWYZ2U0ZPJV|          1|           16|         20|   N|                Y|\n",
            "+--------------+-----------+-------------+-----------+----+-----------------+\n",
            "only showing top 20 rows\n",
            "\n"
          ],
          "name": "stdout"
        }
      ]
    },
    {
      "cell_type": "code",
      "metadata": {
        "colab": {
          "base_uri": "https://localhost:8080/"
        },
        "id": "3SkJKxGE4mvx",
        "outputId": "55851691-9eea-41a3-fc63-2cba826d850b"
      },
      "source": [
        "# Step 5: a. Determine the total number of reviews\n",
        "total_vine_reviews = vine_program_df.count()\n",
        "print(f\" There are total {total_vine_reviews} vine reviews\")"
      ],
      "execution_count": 16,
      "outputs": [
        {
          "output_type": "stream",
          "text": [
            " There are total 17514 vine reviews\n"
          ],
          "name": "stdout"
        }
      ]
    },
    {
      "cell_type": "code",
      "metadata": {
        "colab": {
          "base_uri": "https://localhost:8080/"
        },
        "id": "APXULgM54w3F",
        "outputId": "3bdefce5-011d-4064-b7f1-29ed5279a0b1"
      },
      "source": [
        "# b. Number of 5-star reviews from vine program\n",
        "five_star_vine_df = vine_program_df.filter(vine_program_df['star_rating'] == '5')\n",
        "five_star_vine_reviews = five_star_vine_df.count()\n",
        "print(f\"There are total {five_star_vine_reviews} 5-star reviews from the vine program\")"
      ],
      "execution_count": 21,
      "outputs": [
        {
          "output_type": "stream",
          "text": [
            "There are total 5154 5-star reviews from the vine program\n"
          ],
          "name": "stdout"
        }
      ]
    },
    {
      "cell_type": "code",
      "metadata": {
        "colab": {
          "base_uri": "https://localhost:8080/"
        },
        "id": "TKqbCrig5-pt",
        "outputId": "3d44966b-1e2c-4afa-a7cd-5413da7f7c9e"
      },
      "source": [
        "# c. Total paid review\n",
        "total_paid = vine_program_paid_df.count()\n",
        "total_paid"
      ],
      "execution_count": 25,
      "outputs": [
        {
          "output_type": "execute_result",
          "data": {
            "text/plain": [
              "248"
            ]
          },
          "metadata": {
            "tags": []
          },
          "execution_count": 25
        }
      ]
    },
    {
      "cell_type": "code",
      "metadata": {
        "colab": {
          "base_uri": "https://localhost:8080/"
        },
        "id": "owZGNw9a6LLJ",
        "outputId": "81e5df71-15c5-4f8a-c3f7-003dd3bf62a5"
      },
      "source": [
        "# Total unpaid review\n",
        "total_unpaid = vine_program_unpaid_df.count()\n",
        "total_unpaid"
      ],
      "execution_count": 28,
      "outputs": [
        {
          "output_type": "execute_result",
          "data": {
            "text/plain": [
              "17514"
            ]
          },
          "metadata": {
            "tags": []
          },
          "execution_count": 28
        }
      ]
    },
    {
      "cell_type": "code",
      "metadata": {
        "colab": {
          "base_uri": "https://localhost:8080/"
        },
        "id": "h4ZS4Uzb8M6X",
        "outputId": "696453be-78cc-413c-d720-20e73b92a5af"
      },
      "source": [
        "# 5-star review paid\n",
        "five_paid = vine_program_paid_df.filter(\"star_rating=5\").count()\n",
        "print(f\"There are total {five_paid} reviews are paid 5-star reviews\")"
      ],
      "execution_count": 43,
      "outputs": [
        {
          "output_type": "stream",
          "text": [
            "There are total 102 reviews are paid 5-star reviews\n"
          ],
          "name": "stdout"
        }
      ]
    },
    {
      "cell_type": "code",
      "metadata": {
        "colab": {
          "base_uri": "https://localhost:8080/"
        },
        "id": "TDlyZuPK8fbS",
        "outputId": "03ba3e73-164d-4db5-8a89-5ff90ddf64b1"
      },
      "source": [
        "# 5-star review unpaid\n",
        "five_unpaid = vine_program_unpaid_df.filter(\"star_rating=5\").count()\n",
        "print(f\"There are total {five_unpaid} reviews are unpaid 5-star reviews\")"
      ],
      "execution_count": 44,
      "outputs": [
        {
          "output_type": "stream",
          "text": [
            "There are total 5154 reviews are unpaid 5-star reviews\n"
          ],
          "name": "stdout"
        }
      ]
    },
    {
      "cell_type": "code",
      "metadata": {
        "colab": {
          "base_uri": "https://localhost:8080/"
        },
        "id": "bXQKuJLA6b5o",
        "outputId": "3357ea7f-4de1-4cbf-a23e-771c4679497b"
      },
      "source": [
        "# Percentage of 5-star review for paid\n",
        "percentage = round(((five_paid / total_paid) * 100), 0)\n",
        "print(f\"There are {percentage}% of 5-star reviews are paid\")"
      ],
      "execution_count": 46,
      "outputs": [
        {
          "output_type": "stream",
          "text": [
            "There are 41.0% of 5-star reviews are paid\n"
          ],
          "name": "stdout"
        }
      ]
    },
    {
      "cell_type": "code",
      "metadata": {
        "colab": {
          "base_uri": "https://localhost:8080/"
        },
        "id": "l2eqqLmF6uIa",
        "outputId": "98a4cb04-0016-4e4f-ebec-73942b371d6d"
      },
      "source": [
        "# Percentage of 5-star review for unpaid\n",
        "percentage = round(((five_unpaid / total_unpaid) * 100), 0)\n",
        "print(f\"There are {percentage}% of 5-star reviews are unpaid\")"
      ],
      "execution_count": 47,
      "outputs": [
        {
          "output_type": "stream",
          "text": [
            "There are 29.0% of 5-star reviews are unpaid\n"
          ],
          "name": "stdout"
        }
      ]
    },
    {
      "cell_type": "code",
      "metadata": {
        "id": "7Vlg8aho7IsX"
      },
      "source": [
        ""
      ],
      "execution_count": null,
      "outputs": []
    }
  ]
}